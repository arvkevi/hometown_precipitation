{
 "cells": [
  {
   "cell_type": "code",
   "execution_count": 1,
   "metadata": {},
   "outputs": [],
   "source": [
    "import datetime\n",
    "\n",
    "# you might need to install these packages\n",
    "import pandas as pd\n",
    "import sqlalchemy\n",
    "import scipy.stats as stats"
   ]
  },
  {
   "cell_type": "code",
   "execution_count": 2,
   "metadata": {},
   "outputs": [],
   "source": [
    "URI = \"postgres://kevin@localhost:5432/kevin\"\n",
    "URI = URI.replace(\"postgres://\", \"postgresql://\", 1)"
   ]
  },
  {
   "cell_type": "code",
   "execution_count": 3,
   "metadata": {},
   "outputs": [],
   "source": [
    "engine = sqlalchemy.create_engine(URI)"
   ]
  },
  {
   "cell_type": "code",
   "execution_count": 4,
   "metadata": {},
   "outputs": [],
   "source": [
    "today = datetime.datetime.today()\n",
    "thirty_days_ago = today - datetime.timedelta(days=30)"
   ]
  },
  {
   "cell_type": "code",
   "execution_count": 5,
   "metadata": {},
   "outputs": [],
   "source": [
    "observation_timestamp = pd.date_range(start=thirty_days_ago, end=today, freq=\"1H\")\n",
    "db_timestamp = pd.date_range(start=thirty_days_ago, end=today, freq=\"1H\")\n",
    "zip_code = [\"10001\"] * len(observation_timestamp)\n",
    "# generate some rain events\n",
    "summer_rain = stats.poisson.rvs(0.05, size=len(observation_timestamp), random_state=42)\n",
    "ids = list(range(len(observation_timestamp)))\n",
    "\n",
    "df = pd.DataFrame(\n",
    "    {\n",
    "        \"id\": ids,\n",
    "        \"observation_timestamp\": observation_timestamp,\n",
    "        \"db_timestamp\": db_timestamp,\n",
    "        \"zip_code\": zip_code,\n",
    "        \"precipitation_mms\": summer_rain,\n",
    "    }\n",
    ")"
   ]
  },
  {
   "cell_type": "code",
   "execution_count": 7,
   "metadata": {},
   "outputs": [
    {
     "data": {
      "text/plain": [
       "721"
      ]
     },
     "execution_count": 7,
     "metadata": {},
     "output_type": "execute_result"
    }
   ],
   "source": [
    "df.to_sql(\"precipitation\", engine, if_exists=\"replace\", index=False)"
   ]
  },
  {
   "cell_type": "markdown",
   "metadata": {},
   "source": [
    "Now go follow the instructions in the README"
   ]
  }
 ],
 "metadata": {
  "kernelspec": {
   "display_name": "Python 3.10.2 64-bit ('last_rain_event')",
   "language": "python",
   "name": "python3"
  },
  "language_info": {
   "codemirror_mode": {
    "name": "ipython",
    "version": 3
   },
   "file_extension": ".py",
   "mimetype": "text/x-python",
   "name": "python",
   "nbconvert_exporter": "python",
   "pygments_lexer": "ipython3",
   "version": "3.10.2"
  },
  "orig_nbformat": 4,
  "vscode": {
   "interpreter": {
    "hash": "7f256830ecdfddbc327828745f04c107a19e8a38900bf7f6736a675aec3bfb67"
   }
  }
 },
 "nbformat": 4,
 "nbformat_minor": 2
}
